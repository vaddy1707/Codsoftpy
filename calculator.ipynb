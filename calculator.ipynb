{
 "cells": [
  {
   "cell_type": "code",
   "execution_count": 2,
   "id": "6b46acc5",
   "metadata": {},
   "outputs": [
    {
     "name": "stdout",
     "output_type": "stream",
     "text": [
      "Enter the first number: 10\n",
      "Enter the second number: 20\n",
      "Enter the operation (#Addition'+', #Substraction'-', #Multiplaction'*', #Divide'/'): +\n",
      "The result is: 30.0\n"
     ]
    }
   ],
   "source": [
    "def simple_calculator():\n",
    "    \"\"\"Performs basic arithmetic operations based on user input.\"\"\"\n",
    "\n",
    "    while True:\n",
    "        try:\n",
    "            Input1 = float(input(\"Enter the first number: \"))\n",
    "            Input2 = float(input(\"Enter the second number: \"))\n",
    "            operation = input(\"Enter the operation (#Addition'+', #Substraction'-', #Multiplaction'*', #Divide'/'): \")\n",
    "\n",
    "            if operation == \"+\":\n",
    "                result = Input1 + Input2\n",
    "            elif operation == \"-\":\n",
    "                result = Input1 - Input2\n",
    "            elif operation == \"*\":\n",
    "            \n",
    "                result = Input1 * Input2\n",
    "            elif operation == \"/\":\n",
    "                if Input2 == 0:\n",
    "                    raise ZeroDivisionError(\"Cannot divide by zero\")\n",
    "                result = Input1 / Input2\n",
    "            else:\n",
    "                print(\"Invalid operation. Please try again.\")\n",
    "                continue\n",
    "\n",
    "            print(f\"The result is: {result}\")\n",
    "            break\n",
    "\n",
    "        except ValueError:\n",
    "            print(\"Invalid input. Please enter numbers only.\")\n",
    "\n",
    "if __name__ == \"__main__\":\n",
    "    simple_calculator()"
   ]
  },
  {
   "cell_type": "code",
   "execution_count": null,
   "id": "c6b2e76e",
   "metadata": {},
   "outputs": [],
   "source": []
  }
 ],
 "metadata": {
  "kernelspec": {
   "display_name": "Python 3 (ipykernel)",
   "language": "python",
   "name": "python3"
  },
  "language_info": {
   "codemirror_mode": {
    "name": "ipython",
    "version": 3
   },
   "file_extension": ".py",
   "mimetype": "text/x-python",
   "name": "python",
   "nbconvert_exporter": "python",
   "pygments_lexer": "ipython3",
   "version": "3.11.5"
  }
 },
 "nbformat": 4,
 "nbformat_minor": 5
}
