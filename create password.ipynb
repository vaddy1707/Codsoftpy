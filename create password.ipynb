{
 "cells": [
  {
   "cell_type": "code",
   "execution_count": 1,
   "id": "3a823435",
   "metadata": {},
   "outputs": [
    {
     "name": "stdout",
     "output_type": "stream",
     "text": [
      "Enter the desired length of the password: 5\n",
      "Include lowercase letters? (y/n): y\n",
      "Include uppercase letters? (y/n): n\n",
      "Include digits? (y/n): y\n",
      "Include symbols? (y/n): y\n",
      "Your generated password is: 9*rsx\n"
     ]
    }
   ],
   "source": [
    "import random\n",
    "\n",
    "def generate_password(length, complexity):\n",
    "    \"\"\"Generates a random password with the specified length and complexity.\"\"\"\n",
    "\n",
    "    characters = []\n",
    "\n",
    "    if complexity[\"lowercase\"]:\n",
    "        characters += list(\"abcdefghijklmnopqrstuvwxyz\")\n",
    "    if complexity[\"uppercase\"]:\n",
    "        characters += list(\"ABCDEFGHIJKLMNOPQRSTUVWXYZ\")\n",
    "    if complexity[\"digits\"]:\n",
    "        characters += list(\"0123456789\")\n",
    "    if complexity[\"symbols\"]:\n",
    "        characters += list(\"!@#$%^&*()_+\")\n",
    "\n",
    "    password = \"\".join(random.choice(characters) for _ in range(length))\n",
    "    return password\n",
    "\n",
    "def get_user_input():\n",
    "    \"\"\"Prompts the user for password length and complexity preferences.\"\"\"\n",
    "\n",
    "    length = int(input(\"Enter the desired length of the password: \"))\n",
    "\n",
    "    complexity = {\n",
    "        \"lowercase\": True,  # Default to all character types\n",
    "        \"uppercase\": True,\n",
    "        \"digits\": True,\n",
    "        \"symbols\": True\n",
    "    }\n",
    "\n",
    "    while True:\n",
    "        choice = input(\"Include lowercase letters? (y/n): \")\n",
    "        if choice.lower() in [\"y\", \"n\"]:\n",
    "            complexity[\"lowercase\"] = choice.lower() == \"y\"\n",
    "            break\n",
    "\n",
    "    while True:\n",
    "        choice = input(\"Include uppercase letters? (y/n): \")\n",
    "        if choice.lower() in [\"y\", \"n\"]:\n",
    "            complexity[\"uppercase\"] = choice.lower() == \"y\"\n",
    "            break\n",
    "\n",
    "    while True:\n",
    "        choice = input(\"Include digits? (y/n): \")\n",
    "        if choice.lower() in [\"y\", \"n\"]:\n",
    "            complexity[\"digits\"] = choice.lower() == \"y\"\n",
    "            break\n",
    "\n",
    "    while True:\n",
    "        choice = input(\"Include symbols? (y/n): \")\n",
    "        if choice.lower() in [\"y\", \"n\"]:\n",
    "            complexity[\"symbols\"] = choice.lower() == \"y\"\n",
    "            break\n",
    "\n",
    "    return length, complexity\n",
    "\n",
    "# Get user input for password preferences\n",
    "length, complexity = get_user_input()\n",
    "\n",
    "# Generate and print the password\n",
    "password = generate_password(length, complexity)\n",
    "print(\"Your generated password is:\", password)"
   ]
  },
  {
   "cell_type": "code",
   "execution_count": null,
   "id": "5d838e93",
   "metadata": {},
   "outputs": [],
   "source": []
  }
 ],
 "metadata": {
  "kernelspec": {
   "display_name": "Python 3 (ipykernel)",
   "language": "python",
   "name": "python3"
  },
  "language_info": {
   "codemirror_mode": {
    "name": "ipython",
    "version": 3
   },
   "file_extension": ".py",
   "mimetype": "text/x-python",
   "name": "python",
   "nbconvert_exporter": "python",
   "pygments_lexer": "ipython3",
   "version": "3.11.5"
  }
 },
 "nbformat": 4,
 "nbformat_minor": 5
}
