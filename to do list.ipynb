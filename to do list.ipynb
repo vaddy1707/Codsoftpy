{
 "cells": [
  {
   "cell_type": "code",
   "execution_count": 1,
   "id": "156b1815",
   "metadata": {},
   "outputs": [],
   "source": [
    "import os\n",
    "import json\n",
    "from datetime import datetime\n"
   ]
  },
  {
   "cell_type": "code",
   "execution_count": 2,
   "id": "620ccf89",
   "metadata": {},
   "outputs": [],
   "source": [
    "def load_tasks():\n",
    "    if os.path.exists('tasks.json'):\n",
    "        with open('tasks.json', 'r') as file:\n",
    "            tasks = json.load(file)\n",
    "        return tasks\n",
    "    return []"
   ]
  },
  {
   "cell_type": "code",
   "execution_count": 3,
   "id": "d13db1ab",
   "metadata": {},
   "outputs": [],
   "source": [
    "def save_tasks(tasks):\n",
    "    with open('tasks.json', 'w') as file:\n",
    "        json.dump(tasks, file)\n",
    "    "
   ]
  },
  {
   "cell_type": "code",
   "execution_count": 4,
   "id": "f17f0e6c",
   "metadata": {},
   "outputs": [],
   "source": [
    "def display_tasks(tasks):\n",
    "    if not tasks:\n",
    "        print(\"No tasks found.\")\n",
    "    else:\n",
    "        for i, task in enumerate(tasks, start=1):\n",
    "            print(f\"{i}. {task['title']} - {task['date']}\")"
   ]
  },
  {
   "cell_type": "code",
   "execution_count": 5,
   "id": "a9b2e668",
   "metadata": {},
   "outputs": [],
   "source": [
    "def add_task(title):\n",
    "    tasks = load_tasks()\n",
    "    date = datetime.now().strftime(\"%Y-%m-%d %H:%M:%S\")\n",
    "    new_task = {'title': title, 'date': date}\n",
    "    tasks.append(new_task)\n",
    "    save_tasks(tasks)\n",
    "    print(f\"Task added: {title}\")"
   ]
  },
  {
   "cell_type": "code",
   "execution_count": 6,
   "id": "e526ff0b",
   "metadata": {},
   "outputs": [],
   "source": [
    "def remove_task(index):\n",
    "    tasks = load_tasks()\n",
    "    if 1 <= index <= len(tasks):\n",
    "        removed_task = tasks.pop(index - 1)\n",
    "        save_tasks(tasks)\n",
    "        print(f\"Task removed: {removed_task['title']}\")\n",
    "    else:\n",
    "        print(\"Invalid task index.\")"
   ]
  },
  {
   "cell_type": "code",
   "execution_count": 7,
   "id": "6f4e8865",
   "metadata": {},
   "outputs": [],
   "source": [
    "def main():\n",
    "    while True:\n",
    "        print(\"\\nTo-Do List Application\")\n",
    "        print(\"1. Display tasks\")\n",
    "        print(\"2. Add task\")\n",
    "        print(\"3. Remove task\")\n",
    "        print(\"4. Exit\")\n",
    "        \n",
    "        choice = input(\"Enter your choice: \")\n",
    "\n",
    "        if choice == '1':\n",
    "            tasks = load_tasks()\n",
    "            display_tasks(tasks)\n",
    "        elif choice == '2':\n",
    "            title = input(\"Enter task title: \")\n",
    "            add_task(title)\n",
    "        elif choice == '3':\n",
    "            index = int(input(\"Enter task index to remove: \"))\n",
    "            remove_task(index)\n",
    "        elif choice == '4':\n",
    "            print(\"Exiting To-Do List Application.\")\n",
    "            break\n",
    "        else:\n",
    "            print(\"Invalid choice. Please try again.\")"
   ]
  },
  {
   "cell_type": "code",
   "execution_count": null,
   "id": "5524a443",
   "metadata": {},
   "outputs": [
    {
     "name": "stdout",
     "output_type": "stream",
     "text": [
      "\n",
      "To-Do List Application\n",
      "1. Display tasks\n",
      "2. Add task\n",
      "3. Remove task\n",
      "4. Exit\n"
     ]
    }
   ],
   "source": [
    "if __name__ == \"__main__\":\n",
    "    main()"
   ]
  },
  {
   "cell_type": "code",
   "execution_count": null,
   "id": "bee7fc83",
   "metadata": {},
   "outputs": [],
   "source": []
  }
 ],
 "metadata": {
  "kernelspec": {
   "display_name": "Python 3 (ipykernel)",
   "language": "python",
   "name": "python3"
  },
  "language_info": {
   "codemirror_mode": {
    "name": "ipython",
    "version": 3
   },
   "file_extension": ".py",
   "mimetype": "text/x-python",
   "name": "python",
   "nbconvert_exporter": "python",
   "pygments_lexer": "ipython3",
   "version": "3.11.5"
  }
 },
 "nbformat": 4,
 "nbformat_minor": 5
}
